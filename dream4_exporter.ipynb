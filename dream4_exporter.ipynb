{
 "cells": [
  {
   "cell_type": "code",
   "execution_count": 1,
   "outputs": [],
   "source": [
    "import os\n",
    "import uuid\n",
    "from pathlib import Path\n",
    "import glob\n",
    "import shutil\n",
    "import json\n",
    "import numpy as np\n",
    "import pathlib\n",
    "import pandas as pd\n",
    "from collections import namedtuple\n",
    "import subprocess\n",
    "\n",
    "from xml.dom import minidom\n",
    "\n",
    "import networkx as nx\n",
    "import graphical_models\n",
    "import tqdm"
   ],
   "metadata": {
    "collapsed": false,
    "pycharm": {
     "name": "#%%\n"
    }
   }
  },
  {
   "cell_type": "markdown",
   "source": [
    "Make sure  https://github.com/linlinchn/gnw/raw/master/gnw-3.1b.jar is in your root directory (should be there already)\n",
    "\n",
    "Credits: Code copied from https://github.com/yannadani/cbed/blob/main/envs/dream4.py and adjusted for modularity\n",
    "\n",
    "Usage:\n",
    "Different graphs are available in /configurations, just switch them out by setting them in the 'name' argument of {observe, intervene, knockdown}\n",
    "\n",
    "Note: Knockdown/Knockout only generate one sample a time for the node specified (a limitation by the original Java jar code, can only be improved by adjusting that Java code and recompiling which sounds like pain)\n"
   ],
   "metadata": {
    "collapsed": false,
    "pycharm": {
     "name": "#%% md\n"
    }
   }
  },
  {
   "cell_type": "code",
   "execution_count": 2,
   "outputs": [],
   "source": [
    "def observe(samples, name='InSilicoSize10-Ecoli1'):\n",
    "    network = f'configurations/{name}.xml'\n",
    "    cmd = f'java -Djava.awt.headless=true -jar gnw-3.1b.jar -c settings.txt --input-net {network} --output-net-format=1 --simulate'\n",
    "    print(cmd)\n",
    "\n",
    "    data = []\n",
    "    for _ in tqdm.tqdm(range(samples)):\n",
    "        subprocess.check_call(cmd.split(' '),  stderr=subprocess.DEVNULL)\n",
    "        data.append(pd.read_csv(f'{name}_wildtype.tsv', sep='\\t'))\n",
    "    return pd.concat(data)\n",
    "\n",
    "\n",
    "def intervene(samples, node, name='InSilicoSize10-Ecoli1'):\n",
    "    network = f'configurations/{name}.xml'\n",
    "    cmd = f'java -Djava.awt.headless=true -jar gnw-3.1b.jar -c settings.txt --input-net {network} --output-net-format=1 --simulate'\n",
    "    print(cmd)\n",
    "    #subprocess.check_call(cmd.split(' '),  stderr=subprocess.DEVNULL)\n",
    "    #data = pd.read_csv(f'{name}_knockouts.tsv', sep='\\t')\n",
    "    #return data.iloc[node]\n",
    "\n",
    "    data = []\n",
    "    for _ in tqdm.tqdm(range(samples)):\n",
    "        subprocess.check_call(cmd.split(' '),  stderr=subprocess.DEVNULL)\n",
    "        row = pd.read_csv(f'{name}_knockouts.tsv', sep='\\t').iloc[node]\n",
    "        if len(data) == 0:\n",
    "            data = row\n",
    "            continue\n",
    "        data = pd.concat([data, row], axis=1)\n",
    "    return data.T\n",
    "\n",
    "def knockdown(samples, node, name='InSilicoSize10-Ecoli1'):\n",
    "    network = f'configurations/{name}.xml'\n",
    "    cmd = f'java -Djava.awt.headless=true -jar gnw-3.1b.jar -c settings.txt --input-net {network} --output-net-format=1 --simulate'\n",
    "    print(cmd)\n",
    "\n",
    "    data = []\n",
    "    for _ in tqdm.tqdm(range(samples)):\n",
    "        subprocess.check_output(cmd.split(' '),  stderr=subprocess.DEVNULL)\n",
    "        row = pd.read_csv(f'{name}_knockdowns.tsv', sep='\\t').iloc[node]\n",
    "        if len(data) == 0:\n",
    "            data = row\n",
    "            continue\n",
    "        data = pd.concat([data, row], axis=1)\n",
    "    return data.T\n",
    "\n",
    "\n",
    "def get_network(xml):\n",
    "    xmldoc = minidom.parse(str(xml))\n",
    "\n",
    "    nodes = []\n",
    "    var2id = {}\n",
    "    for i, node in enumerate(xmldoc.getElementsByTagName('species')):\n",
    "        name = node.attributes.get('id').value\n",
    "        if 'void' not in name:\n",
    "            nodes.append(name)\n",
    "            var2id[name] = i\n",
    "\n",
    "    A = np.zeros((len(nodes), len(nodes)))\n",
    "\n",
    "    for node in xmldoc.getElementsByTagName('reaction'):\n",
    "        # child\n",
    "        child = node.getElementsByTagName('listOfProducts')[0].getElementsByTagName('speciesReference')[0].attributes.get('species').value\n",
    "\n",
    "        #parents\n",
    "        for parent in node.getElementsByTagName('modifierSpeciesReference'):\n",
    "            _from = var2id[parent.attributes.get('species').value]\n",
    "            _to = var2id[child]\n",
    "            A[_from, _to] = 1\n",
    "\n",
    "    return nodes, var2id, A"
   ],
   "metadata": {
    "collapsed": false,
    "pycharm": {
     "name": "#%%\n"
    }
   }
  },
  {
   "cell_type": "code",
   "execution_count": 28,
   "outputs": [
    {
     "name": "stdout",
     "output_type": "stream",
     "text": [
      "java -jar gnw-3.1b.jar -c settings.txt --input-net configurations/InSilicoSize10-Ecoli1.xml --output-net-format=1 --simulate\n"
     ]
    },
    {
     "name": "stderr",
     "output_type": "stream",
     "text": [
      " 40%|████      | 2/5 [00:03<00:04,  1.62s/it]\n"
     ]
    },
    {
     "ename": "KeyboardInterrupt",
     "evalue": "",
     "output_type": "error",
     "traceback": [
      "\u001B[0;31m---------------------------------------------------------------------------\u001B[0m",
      "\u001B[0;31mKeyboardInterrupt\u001B[0m                         Traceback (most recent call last)",
      "Cell \u001B[0;32mIn[28], line 1\u001B[0m\n\u001B[0;32m----> 1\u001B[0m \u001B[43mobserve\u001B[49m\u001B[43m(\u001B[49m\u001B[43msamples\u001B[49m\u001B[38;5;241;43m=\u001B[39;49m\u001B[38;5;241;43m5\u001B[39;49m\u001B[43m)\u001B[49m\n",
      "Cell \u001B[0;32mIn[27], line 8\u001B[0m, in \u001B[0;36mobserve\u001B[0;34m(samples, name)\u001B[0m\n\u001B[1;32m      6\u001B[0m data \u001B[38;5;241m=\u001B[39m []\n\u001B[1;32m      7\u001B[0m \u001B[38;5;28;01mfor\u001B[39;00m _ \u001B[38;5;129;01min\u001B[39;00m tqdm\u001B[38;5;241m.\u001B[39mtqdm(\u001B[38;5;28mrange\u001B[39m(samples)):\n\u001B[0;32m----> 8\u001B[0m     \u001B[43msubprocess\u001B[49m\u001B[38;5;241;43m.\u001B[39;49m\u001B[43mcheck_call\u001B[49m\u001B[43m(\u001B[49m\u001B[43mcmd\u001B[49m\u001B[38;5;241;43m.\u001B[39;49m\u001B[43msplit\u001B[49m\u001B[43m(\u001B[49m\u001B[38;5;124;43m'\u001B[39;49m\u001B[38;5;124;43m \u001B[39;49m\u001B[38;5;124;43m'\u001B[39;49m\u001B[43m)\u001B[49m\u001B[43m,\u001B[49m\u001B[43m  \u001B[49m\u001B[43mstderr\u001B[49m\u001B[38;5;241;43m=\u001B[39;49m\u001B[43msubprocess\u001B[49m\u001B[38;5;241;43m.\u001B[39;49m\u001B[43mDEVNULL\u001B[49m\u001B[43m)\u001B[49m\n\u001B[1;32m      9\u001B[0m     data\u001B[38;5;241m.\u001B[39mappend(pd\u001B[38;5;241m.\u001B[39mread_csv(\u001B[38;5;124mf\u001B[39m\u001B[38;5;124m'\u001B[39m\u001B[38;5;132;01m{\u001B[39;00mname\u001B[38;5;132;01m}\u001B[39;00m\u001B[38;5;124m_wildtype.tsv\u001B[39m\u001B[38;5;124m'\u001B[39m, sep\u001B[38;5;241m=\u001B[39m\u001B[38;5;124m'\u001B[39m\u001B[38;5;130;01m\\t\u001B[39;00m\u001B[38;5;124m'\u001B[39m))\n\u001B[1;32m     10\u001B[0m \u001B[38;5;28;01mreturn\u001B[39;00m pd\u001B[38;5;241m.\u001B[39mconcat(data)\n",
      "File \u001B[0;32m/opt/homebrew/Caskroom/miniforge/base/envs/cbed_env/lib/python3.8/subprocess.py:359\u001B[0m, in \u001B[0;36mcheck_call\u001B[0;34m(*popenargs, **kwargs)\u001B[0m\n\u001B[1;32m    349\u001B[0m \u001B[38;5;28;01mdef\u001B[39;00m \u001B[38;5;21mcheck_call\u001B[39m(\u001B[38;5;241m*\u001B[39mpopenargs, \u001B[38;5;241m*\u001B[39m\u001B[38;5;241m*\u001B[39mkwargs):\n\u001B[1;32m    350\u001B[0m     \u001B[38;5;124;03m\"\"\"Run command with arguments.  Wait for command to complete.  If\u001B[39;00m\n\u001B[1;32m    351\u001B[0m \u001B[38;5;124;03m    the exit code was zero then return, otherwise raise\u001B[39;00m\n\u001B[1;32m    352\u001B[0m \u001B[38;5;124;03m    CalledProcessError.  The CalledProcessError object will have the\u001B[39;00m\n\u001B[0;32m   (...)\u001B[0m\n\u001B[1;32m    357\u001B[0m \u001B[38;5;124;03m    check_call([\"ls\", \"-l\"])\u001B[39;00m\n\u001B[1;32m    358\u001B[0m \u001B[38;5;124;03m    \"\"\"\u001B[39;00m\n\u001B[0;32m--> 359\u001B[0m     retcode \u001B[38;5;241m=\u001B[39m \u001B[43mcall\u001B[49m\u001B[43m(\u001B[49m\u001B[38;5;241;43m*\u001B[39;49m\u001B[43mpopenargs\u001B[49m\u001B[43m,\u001B[49m\u001B[43m \u001B[49m\u001B[38;5;241;43m*\u001B[39;49m\u001B[38;5;241;43m*\u001B[39;49m\u001B[43mkwargs\u001B[49m\u001B[43m)\u001B[49m\n\u001B[1;32m    360\u001B[0m     \u001B[38;5;28;01mif\u001B[39;00m retcode:\n\u001B[1;32m    361\u001B[0m         cmd \u001B[38;5;241m=\u001B[39m kwargs\u001B[38;5;241m.\u001B[39mget(\u001B[38;5;124m\"\u001B[39m\u001B[38;5;124margs\u001B[39m\u001B[38;5;124m\"\u001B[39m)\n",
      "File \u001B[0;32m/opt/homebrew/Caskroom/miniforge/base/envs/cbed_env/lib/python3.8/subprocess.py:342\u001B[0m, in \u001B[0;36mcall\u001B[0;34m(timeout, *popenargs, **kwargs)\u001B[0m\n\u001B[1;32m    340\u001B[0m \u001B[38;5;28;01mwith\u001B[39;00m Popen(\u001B[38;5;241m*\u001B[39mpopenargs, \u001B[38;5;241m*\u001B[39m\u001B[38;5;241m*\u001B[39mkwargs) \u001B[38;5;28;01mas\u001B[39;00m p:\n\u001B[1;32m    341\u001B[0m     \u001B[38;5;28;01mtry\u001B[39;00m:\n\u001B[0;32m--> 342\u001B[0m         \u001B[38;5;28;01mreturn\u001B[39;00m \u001B[43mp\u001B[49m\u001B[38;5;241;43m.\u001B[39;49m\u001B[43mwait\u001B[49m\u001B[43m(\u001B[49m\u001B[43mtimeout\u001B[49m\u001B[38;5;241;43m=\u001B[39;49m\u001B[43mtimeout\u001B[49m\u001B[43m)\u001B[49m\n\u001B[1;32m    343\u001B[0m     \u001B[38;5;28;01mexcept\u001B[39;00m:  \u001B[38;5;66;03m# Including KeyboardInterrupt, wait handled that.\u001B[39;00m\n\u001B[1;32m    344\u001B[0m         p\u001B[38;5;241m.\u001B[39mkill()\n",
      "File \u001B[0;32m/opt/homebrew/Caskroom/miniforge/base/envs/cbed_env/lib/python3.8/subprocess.py:1083\u001B[0m, in \u001B[0;36mPopen.wait\u001B[0;34m(self, timeout)\u001B[0m\n\u001B[1;32m   1081\u001B[0m     endtime \u001B[38;5;241m=\u001B[39m _time() \u001B[38;5;241m+\u001B[39m timeout\n\u001B[1;32m   1082\u001B[0m \u001B[38;5;28;01mtry\u001B[39;00m:\n\u001B[0;32m-> 1083\u001B[0m     \u001B[38;5;28;01mreturn\u001B[39;00m \u001B[38;5;28;43mself\u001B[39;49m\u001B[38;5;241;43m.\u001B[39;49m\u001B[43m_wait\u001B[49m\u001B[43m(\u001B[49m\u001B[43mtimeout\u001B[49m\u001B[38;5;241;43m=\u001B[39;49m\u001B[43mtimeout\u001B[49m\u001B[43m)\u001B[49m\n\u001B[1;32m   1084\u001B[0m \u001B[38;5;28;01mexcept\u001B[39;00m \u001B[38;5;167;01mKeyboardInterrupt\u001B[39;00m:\n\u001B[1;32m   1085\u001B[0m     \u001B[38;5;66;03m# https://bugs.python.org/issue25942\u001B[39;00m\n\u001B[1;32m   1086\u001B[0m     \u001B[38;5;66;03m# The first keyboard interrupt waits briefly for the child to\u001B[39;00m\n\u001B[1;32m   1087\u001B[0m     \u001B[38;5;66;03m# exit under the common assumption that it also received the ^C\u001B[39;00m\n\u001B[1;32m   1088\u001B[0m     \u001B[38;5;66;03m# generated SIGINT and will exit rapidly.\u001B[39;00m\n\u001B[1;32m   1089\u001B[0m     \u001B[38;5;28;01mif\u001B[39;00m timeout \u001B[38;5;129;01mis\u001B[39;00m \u001B[38;5;129;01mnot\u001B[39;00m \u001B[38;5;28;01mNone\u001B[39;00m:\n",
      "File \u001B[0;32m/opt/homebrew/Caskroom/miniforge/base/envs/cbed_env/lib/python3.8/subprocess.py:1806\u001B[0m, in \u001B[0;36mPopen._wait\u001B[0;34m(self, timeout)\u001B[0m\n\u001B[1;32m   1804\u001B[0m \u001B[38;5;28;01mif\u001B[39;00m \u001B[38;5;28mself\u001B[39m\u001B[38;5;241m.\u001B[39mreturncode \u001B[38;5;129;01mis\u001B[39;00m \u001B[38;5;129;01mnot\u001B[39;00m \u001B[38;5;28;01mNone\u001B[39;00m:\n\u001B[1;32m   1805\u001B[0m     \u001B[38;5;28;01mbreak\u001B[39;00m  \u001B[38;5;66;03m# Another thread waited.\u001B[39;00m\n\u001B[0;32m-> 1806\u001B[0m (pid, sts) \u001B[38;5;241m=\u001B[39m \u001B[38;5;28;43mself\u001B[39;49m\u001B[38;5;241;43m.\u001B[39;49m\u001B[43m_try_wait\u001B[49m\u001B[43m(\u001B[49m\u001B[38;5;241;43m0\u001B[39;49m\u001B[43m)\u001B[49m\n\u001B[1;32m   1807\u001B[0m \u001B[38;5;66;03m# Check the pid and loop as waitpid has been known to\u001B[39;00m\n\u001B[1;32m   1808\u001B[0m \u001B[38;5;66;03m# return 0 even without WNOHANG in odd situations.\u001B[39;00m\n\u001B[1;32m   1809\u001B[0m \u001B[38;5;66;03m# http://bugs.python.org/issue14396.\u001B[39;00m\n\u001B[1;32m   1810\u001B[0m \u001B[38;5;28;01mif\u001B[39;00m pid \u001B[38;5;241m==\u001B[39m \u001B[38;5;28mself\u001B[39m\u001B[38;5;241m.\u001B[39mpid:\n",
      "File \u001B[0;32m/opt/homebrew/Caskroom/miniforge/base/envs/cbed_env/lib/python3.8/subprocess.py:1764\u001B[0m, in \u001B[0;36mPopen._try_wait\u001B[0;34m(self, wait_flags)\u001B[0m\n\u001B[1;32m   1762\u001B[0m \u001B[38;5;124;03m\"\"\"All callers to this function MUST hold self._waitpid_lock.\"\"\"\u001B[39;00m\n\u001B[1;32m   1763\u001B[0m \u001B[38;5;28;01mtry\u001B[39;00m:\n\u001B[0;32m-> 1764\u001B[0m     (pid, sts) \u001B[38;5;241m=\u001B[39m \u001B[43mos\u001B[49m\u001B[38;5;241;43m.\u001B[39;49m\u001B[43mwaitpid\u001B[49m\u001B[43m(\u001B[49m\u001B[38;5;28;43mself\u001B[39;49m\u001B[38;5;241;43m.\u001B[39;49m\u001B[43mpid\u001B[49m\u001B[43m,\u001B[49m\u001B[43m \u001B[49m\u001B[43mwait_flags\u001B[49m\u001B[43m)\u001B[49m\n\u001B[1;32m   1765\u001B[0m \u001B[38;5;28;01mexcept\u001B[39;00m \u001B[38;5;167;01mChildProcessError\u001B[39;00m:\n\u001B[1;32m   1766\u001B[0m     \u001B[38;5;66;03m# This happens if SIGCLD is set to be ignored or waiting\u001B[39;00m\n\u001B[1;32m   1767\u001B[0m     \u001B[38;5;66;03m# for child processes has otherwise been disabled for our\u001B[39;00m\n\u001B[1;32m   1768\u001B[0m     \u001B[38;5;66;03m# process.  This child is dead, we can't get the status.\u001B[39;00m\n\u001B[1;32m   1769\u001B[0m     pid \u001B[38;5;241m=\u001B[39m \u001B[38;5;28mself\u001B[39m\u001B[38;5;241m.\u001B[39mpid\n",
      "\u001B[0;31mKeyboardInterrupt\u001B[0m: "
     ]
    }
   ],
   "source": [
    "observe(samples=1000)"
   ],
   "metadata": {
    "collapsed": false,
    "pycharm": {
     "name": "#%%\n"
    }
   }
  },
  {
   "cell_type": "code",
   "execution_count": 3,
   "outputs": [
    {
     "data": {
      "text/plain": "(['G1', 'G2', 'G3', 'G4', 'G5', 'G6', 'G7', 'G8', 'G9', 'G10'],\n {'G1': 0,\n  'G2': 1,\n  'G3': 2,\n  'G4': 3,\n  'G5': 4,\n  'G6': 5,\n  'G7': 6,\n  'G8': 7,\n  'G9': 8,\n  'G10': 9},\n array([[0., 0., 0., 0., 0., 0., 0., 0., 0., 0.],\n        [1., 0., 1., 0., 0., 0., 0., 0., 0., 0.],\n        [0., 0., 0., 1., 1., 1., 1., 0., 0., 0.],\n        [0., 0., 0., 0., 0., 0., 0., 0., 0., 0.],\n        [0., 0., 0., 0., 0., 0., 0., 0., 0., 0.],\n        [0., 0., 0., 0., 0., 0., 0., 0., 0., 0.],\n        [0., 0., 0., 0., 0., 0., 0., 0., 0., 0.],\n        [0., 0., 0., 0., 1., 0., 1., 0., 0., 0.],\n        [0., 0., 0., 1., 1., 0., 0., 0., 0., 0.],\n        [0., 0., 0., 0., 0., 0., 1., 0., 0., 0.]]))"
     },
     "execution_count": 3,
     "metadata": {},
     "output_type": "execute_result"
    }
   ],
   "source": [
    "nodes, var2id, A= get_network('InSilicoSize10-Ecoli1.xml')\n",
    "nodes, var2id, A"
   ],
   "metadata": {
    "collapsed": false,
    "pycharm": {
     "name": "#%%\n"
    }
   }
  },
  {
   "cell_type": "code",
   "execution_count": 10,
   "outputs": [
    {
     "name": "stdout",
     "output_type": "stream",
     "text": [
      "[[0 1 1 0 0 0 0 0 0 0]\n",
      " [0 0 0 0 0 0 0 0 0 0]\n",
      " [0 0 0 1 1 1 1 0 0 0]\n",
      " [0 0 0 0 0 0 0 0 0 0]\n",
      " [0 0 0 0 0 0 0 0 0 0]\n",
      " [0 0 0 0 0 0 0 0 0 0]\n",
      " [0 0 0 0 0 0 0 0 0 0]\n",
      " [0 0 0 0 1 0 1 0 0 0]\n",
      " [0 0 0 1 1 0 0 0 0 0]\n",
      " [0 0 0 0 0 0 1 0 0 0]]\n"
     ]
    },
    {
     "data": {
      "text/plain": "<Figure size 640x480 with 1 Axes>",
      "image/png": "[encoded data removed]"
     },
     "metadata": {},
     "output_type": "display_data"
    }
   ],
   "source": [
    "import matplotlib.pyplot as plt\n",
    "import networkx as nx\n",
    "\n",
    "def show_graph_with_labels(adjacency_matrix, mylabels):\n",
    "    rows, cols = np.where(adjacency_matrix == 1)\n",
    "    edges = zip(rows.tolist(), cols.tolist())\n",
    "    gr = nx.DiGraph()\n",
    "    gr.add_edges_from(edges)\n",
    "    nx.draw(gr, node_size=500, labels=mylabels, with_labels=True, arrows=True)\n",
    "    print(nx.adjacency_matrix(gr).todense())\n",
    "    plt.show()\n",
    "show_graph_with_labels(A, {i:n for i, n in enumerate(nodes)})"
   ],
   "metadata": {
    "collapsed": false,
    "pycharm": {
     "name": "#%%\n"
    }
   }
  },
  {
   "cell_type": "code",
   "execution_count": 10,
   "outputs": [
    {
     "name": "stdout",
     "output_type": "stream",
     "text": [
      "java -Djava.awt.headless=true -jar gnw-3.1b.jar -c settings.txt --input-net configurations/InSilicoSize10-Ecoli1.xml --output-net-format=1 --simulate\n"
     ]
    },
    {
     "ename": "NameError",
     "evalue": "name 'tqdm' is not defined",
     "output_type": "error",
     "traceback": [
      "\u001B[0;31m---------------------------------------------------------------------------\u001B[0m",
      "\u001B[0;31mNameError\u001B[0m                                 Traceback (most recent call last)",
      "Cell \u001B[0;32mIn[10], line 1\u001B[0m\n\u001B[0;32m----> 1\u001B[0m \u001B[43mintervene\u001B[49m\u001B[43m(\u001B[49m\u001B[43msamples\u001B[49m\u001B[38;5;241;43m=\u001B[39;49m\u001B[38;5;241;43m3\u001B[39;49m\u001B[43m,\u001B[49m\u001B[43mnode\u001B[49m\u001B[38;5;241;43m=\u001B[39;49m\u001B[38;5;241;43m1\u001B[39;49m\u001B[43m)\u001B[49m \u001B[38;5;66;03m#only one sample at a time\u001B[39;00m\n",
      "Cell \u001B[0;32mIn[4], line 22\u001B[0m, in \u001B[0;36mintervene\u001B[0;34m(samples, node, name)\u001B[0m\n\u001B[1;32m     17\u001B[0m \u001B[38;5;66;03m#subprocess.check_call(cmd.split(' '),  stderr=subprocess.DEVNULL)\u001B[39;00m\n\u001B[1;32m     18\u001B[0m \u001B[38;5;66;03m#data = pd.read_csv(f'{name}_knockouts.tsv', sep='\\t')\u001B[39;00m\n\u001B[1;32m     19\u001B[0m \u001B[38;5;66;03m#return data.iloc[node]\u001B[39;00m\n\u001B[1;32m     21\u001B[0m data \u001B[38;5;241m=\u001B[39m []\n\u001B[0;32m---> 22\u001B[0m \u001B[38;5;28;01mfor\u001B[39;00m _ \u001B[38;5;129;01min\u001B[39;00m \u001B[43mtqdm\u001B[49m\u001B[38;5;241m.\u001B[39mtqdm(\u001B[38;5;28mrange\u001B[39m(samples)):\n\u001B[1;32m     23\u001B[0m     subprocess\u001B[38;5;241m.\u001B[39mcheck_call(cmd\u001B[38;5;241m.\u001B[39msplit(\u001B[38;5;124m'\u001B[39m\u001B[38;5;124m \u001B[39m\u001B[38;5;124m'\u001B[39m),  stderr\u001B[38;5;241m=\u001B[39msubprocess\u001B[38;5;241m.\u001B[39mDEVNULL)\n\u001B[1;32m     24\u001B[0m     row \u001B[38;5;241m=\u001B[39m pd\u001B[38;5;241m.\u001B[39mread_csv(\u001B[38;5;124mf\u001B[39m\u001B[38;5;124m'\u001B[39m\u001B[38;5;132;01m{\u001B[39;00mname\u001B[38;5;132;01m}\u001B[39;00m\u001B[38;5;124m_knockouts.tsv\u001B[39m\u001B[38;5;124m'\u001B[39m, sep\u001B[38;5;241m=\u001B[39m\u001B[38;5;124m'\u001B[39m\u001B[38;5;130;01m\\t\u001B[39;00m\u001B[38;5;124m'\u001B[39m)\u001B[38;5;241m.\u001B[39miloc[node]\n",
      "\u001B[0;31mNameError\u001B[0m: name 'tqdm' is not defined"
     ]
    }
   ],
   "source": [
    "intervene(samples=3,node=1) #only one sample at a time"
   ],
   "metadata": {
    "collapsed": false,
    "pycharm": {
     "name": "#%%\n"
    }
   }
  },
  {
   "cell_type": "code",
   "execution_count": 37,
   "outputs": [
    {
     "name": "stdout",
     "output_type": "stream",
     "text": [
      "java -jar gnw-3.1b.jar -c settings.txt --input-net configurations/InSilicoSize10-Ecoli1.xml --output-net-format=1 --simulate\n"
     ]
    },
    {
     "name": "stderr",
     "output_type": "stream",
     "text": [
      "100%|██████████| 3/3 [00:04<00:00,  1.42s/it]\n"
     ]
    },
    {
     "data": {
      "text/plain": "         G1        G2        G3        G4        G5        G6        G7  \\\n1  0.105238  0.488415  0.158705  0.208633  0.834462  0.598243  0.367743   \n1  0.130518  0.519431  0.138135  0.252482  0.786066  0.866240  0.259578   \n1  0.113364  0.504226  0.197044  0.272286  0.831851  0.909207  0.284573   \n\n         G8        G9       G10  \n1  0.967029  1.045481  0.979435  \n1  0.967666  0.933389  1.032870  \n1  0.979314  1.054268  1.004441  ",
      "text/html": "<div>\n<style scoped>\n    .dataframe tbody tr th:only-of-type {\n        vertical-align: middle;\n    }\n\n    .dataframe tbody tr th {\n        vertical-align: top;\n    }\n\n    .dataframe thead th {\n        text-align: right;\n    }\n</style>\n<table border=\"1\" class=\"dataframe\">\n  <thead>\n    <tr style=\"text-align: right;\">\n      <th></th>\n      <th>G1</th>\n      <th>G2</th>\n      <th>G3</th>\n      <th>G4</th>\n      <th>G5</th>\n      <th>G6</th>\n      <th>G7</th>\n      <th>G8</th>\n      <th>G9</th>\n      <th>G10</th>\n    </tr>\n  </thead>\n  <tbody>\n    <tr>\n      <th>1</th>\n      <td>0.105238</td>\n      <td>0.488415</td>\n      <td>0.158705</td>\n      <td>0.208633</td>\n      <td>0.834462</td>\n      <td>0.598243</td>\n      <td>0.367743</td>\n      <td>0.967029</td>\n      <td>1.045481</td>\n      <td>0.979435</td>\n    </tr>\n    <tr>\n      <th>1</th>\n      <td>0.130518</td>\n      <td>0.519431</td>\n      <td>0.138135</td>\n      <td>0.252482</td>\n      <td>0.786066</td>\n      <td>0.866240</td>\n      <td>0.259578</td>\n      <td>0.967666</td>\n      <td>0.933389</td>\n      <td>1.032870</td>\n    </tr>\n    <tr>\n      <th>1</th>\n      <td>0.113364</td>\n      <td>0.504226</td>\n      <td>0.197044</td>\n      <td>0.272286</td>\n      <td>0.831851</td>\n      <td>0.909207</td>\n      <td>0.284573</td>\n      <td>0.979314</td>\n      <td>1.054268</td>\n      <td>1.004441</td>\n    </tr>\n  </tbody>\n</table>\n</div>"
     },
     "execution_count": 37,
     "metadata": {},
     "output_type": "execute_result"
    }
   ],
   "source": [
    "knockdown(samples=3,node=1) #only one sample at a time"
   ],
   "metadata": {
    "collapsed": false,
    "pycharm": {
     "name": "#%%\n"
    }
   }
  },
  {
   "cell_type": "code",
   "execution_count": null,
   "outputs": [],
   "source": [],
   "metadata": {
    "collapsed": false,
    "pycharm": {
     "name": "#%%\n"
    }
   }
  },
  {
   "cell_type": "markdown",
   "source": [
    "## Example export"
   ],
   "metadata": {
    "collapsed": false,
    "pycharm": {
     "name": "#%% md\n"
    }
   }
  },
  {
   "cell_type": "code",
   "execution_count": 12,
   "outputs": [],
   "source": [
    "from pathlib import Path\n",
    "Path(\"exports\").mkdir(parents=True, exist_ok=True)"
   ],
   "metadata": {
    "collapsed": false,
    "pycharm": {
     "name": "#%%\n"
    }
   }
  },
  {
   "cell_type": "code",
   "execution_count": 13,
   "outputs": [],
   "source": [
    "name='InSilicoSize10-Ecoli1'\n",
    "export_path = f\"exports/{name}\"\n",
    "Path(export_path).mkdir(parents=True, exist_ok=True)"
   ],
   "metadata": {
    "collapsed": false,
    "pycharm": {
     "name": "#%%\n"
    }
   }
  },
  {
   "cell_type": "code",
   "execution_count": 14,
   "outputs": [
    {
     "data": {
      "text/plain": "(['G1', 'G2', 'G3', 'G4', 'G5', 'G6', 'G7', 'G8', 'G9', 'G10'],\n {'G1': 0,\n  'G2': 1,\n  'G3': 2,\n  'G4': 3,\n  'G5': 4,\n  'G6': 5,\n  'G7': 6,\n  'G8': 7,\n  'G9': 8,\n  'G10': 9},\n array([[0., 0., 0., 0., 0., 0., 0., 0., 0., 0.],\n        [1., 0., 1., 0., 0., 0., 0., 0., 0., 0.],\n        [0., 0., 0., 1., 1., 1., 1., 0., 0., 0.],\n        [0., 0., 0., 0., 0., 0., 0., 0., 0., 0.],\n        [0., 0., 0., 0., 0., 0., 0., 0., 0., 0.],\n        [0., 0., 0., 0., 0., 0., 0., 0., 0., 0.],\n        [0., 0., 0., 0., 0., 0., 0., 0., 0., 0.],\n        [0., 0., 0., 0., 1., 0., 1., 0., 0., 0.],\n        [0., 0., 0., 1., 1., 0., 0., 0., 0., 0.],\n        [0., 0., 0., 0., 0., 0., 1., 0., 0., 0.]]))"
     },
     "execution_count": 14,
     "metadata": {},
     "output_type": "execute_result"
    }
   ],
   "source": [
    "nodes, var2id, A = get_network(f'{name}.xml')\n",
    "nodes, var2id, A"
   ],
   "metadata": {
    "collapsed": false,
    "pycharm": {
     "name": "#%%\n"
    }
   }
  },
  {
   "cell_type": "code",
   "execution_count": 49,
   "outputs": [],
   "source": [],
   "metadata": {
    "collapsed": false,
    "pycharm": {
     "name": "#%%\n"
    }
   }
  },
  {
   "cell_type": "code",
   "execution_count": 54,
   "outputs": [
    {
     "name": "stdout",
     "output_type": "stream",
     "text": [
      "java -jar gnw-3.1b.jar -c settings.txt --input-net configurations/InSilicoSize10-Ecoli1.xml --output-net-format=1 --simulate\n"
     ]
    },
    {
     "name": "stderr",
     "output_type": "stream",
     "text": [
      "100%|██████████| 1000/1000 [37:22<00:00,  2.24s/it]   \n"
     ]
    },
    {
     "data": {
      "text/plain": "          G1        G2        G3        G4        G5        G6        G7  \\\n0   0.036987  1.084981  0.057574  0.115111  0.958768  0.052229  0.419390   \n0   0.082038  1.021724  0.078891  0.177624  0.973461  0.273029  0.346893   \n0   0.053333  1.044527  0.057592  0.118682  0.947055  0.100233  0.397086   \n0   0.062435  1.146449  0.037438  0.117482  0.931446  0.078093  0.450752   \n0   0.050235  1.057066  0.068328  0.176691  0.880554  0.193167  0.485350   \n..       ...       ...       ...       ...       ...       ...       ...   \n0   0.068350  0.967772  0.070901  0.142725  0.855352  0.232320  0.407476   \n0   0.070635  1.030820  0.054420  0.140790  0.979580  0.134881  0.417179   \n0   0.065808  0.978618  0.062789  0.167327  0.906690  0.220082  0.373628   \n0   0.077279  1.048709  0.068122  0.193985  0.901050  0.257057  0.383720   \n0   0.064560  1.021796  0.084652  0.151394  0.954550  0.255827  0.385557   \n\n          G8        G9       G10  \n0   0.996986  1.025739  1.001886  \n0   1.054638  0.952767  1.030353  \n0   1.069168  1.031705  1.028072  \n0   0.991235  0.985956  1.021735  \n0   0.908568  1.005502  1.040372  \n..       ...       ...       ...  \n0   0.984777  0.948127  1.131123  \n0   1.124319  1.001991  1.072396  \n0   0.997415  1.047158  1.033510  \n0   0.945458  0.967692  0.939485  \n0   0.991075  1.054441  0.950111  \n\n[1000 rows x 10 columns]",
      "text/html": "<div>\n<style scoped>\n    .dataframe tbody tr th:only-of-type {\n        vertical-align: middle;\n    }\n\n    .dataframe tbody tr th {\n        vertical-align: top;\n    }\n\n    .dataframe thead th {\n        text-align: right;\n    }\n</style>\n<table border=\"1\" class=\"dataframe\">\n  <thead>\n    <tr style=\"text-align: right;\">\n      <th></th>\n      <th>G1</th>\n      <th>G2</th>\n      <th>G3</th>\n      <th>G4</th>\n      <th>G5</th>\n      <th>G6</th>\n      <th>G7</th>\n      <th>G8</th>\n      <th>G9</th>\n      <th>G10</th>\n    </tr>\n  </thead>\n  <tbody>\n    <tr>\n      <th>0</th>\n      <td>0.036987</td>\n      <td>1.084981</td>\n      <td>0.057574</td>\n      <td>0.115111</td>\n      <td>0.958768</td>\n      <td>0.052229</td>\n      <td>0.419390</td>\n      <td>0.996986</td>\n      <td>1.025739</td>\n      <td>1.001886</td>\n    </tr>\n    <tr>\n      <th>0</th>\n      <td>0.082038</td>\n      <td>1.021724</td>\n      <td>0.078891</td>\n      <td>0.177624</td>\n      <td>0.973461</td>\n      <td>0.273029</td>\n      <td>0.346893</td>\n      <td>1.054638</td>\n      <td>0.952767</td>\n      <td>1.030353</td>\n    </tr>\n    <tr>\n      <th>0</th>\n      <td>0.053333</td>\n      <td>1.044527</td>\n      <td>0.057592</td>\n      <td>0.118682</td>\n      <td>0.947055</td>\n      <td>0.100233</td>\n      <td>0.397086</td>\n      <td>1.069168</td>\n      <td>1.031705</td>\n      <td>1.028072</td>\n    </tr>\n    <tr>\n      <th>0</th>\n      <td>0.062435</td>\n      <td>1.146449</td>\n      <td>0.037438</td>\n      <td>0.117482</td>\n      <td>0.931446</td>\n      <td>0.078093</td>\n      <td>0.450752</td>\n      <td>0.991235</td>\n      <td>0.985956</td>\n      <td>1.021735</td>\n    </tr>\n    <tr>\n      <th>0</th>\n      <td>0.050235</td>\n      <td>1.057066</td>\n      <td>0.068328</td>\n      <td>0.176691</td>\n      <td>0.880554</td>\n      <td>0.193167</td>\n      <td>0.485350</td>\n      <td>0.908568</td>\n      <td>1.005502</td>\n      <td>1.040372</td>\n    </tr>\n    <tr>\n      <th>...</th>\n      <td>...</td>\n      <td>...</td>\n      <td>...</td>\n      <td>...</td>\n      <td>...</td>\n      <td>...</td>\n      <td>...</td>\n      <td>...</td>\n      <td>...</td>\n      <td>...</td>\n    </tr>\n    <tr>\n      <th>0</th>\n      <td>0.068350</td>\n      <td>0.967772</td>\n      <td>0.070901</td>\n      <td>0.142725</td>\n      <td>0.855352</td>\n      <td>0.232320</td>\n      <td>0.407476</td>\n      <td>0.984777</td>\n      <td>0.948127</td>\n      <td>1.131123</td>\n    </tr>\n    <tr>\n      <th>0</th>\n      <td>0.070635</td>\n      <td>1.030820</td>\n      <td>0.054420</td>\n      <td>0.140790</td>\n      <td>0.979580</td>\n      <td>0.134881</td>\n      <td>0.417179</td>\n      <td>1.124319</td>\n      <td>1.001991</td>\n      <td>1.072396</td>\n    </tr>\n    <tr>\n      <th>0</th>\n      <td>0.065808</td>\n      <td>0.978618</td>\n      <td>0.062789</td>\n      <td>0.167327</td>\n      <td>0.906690</td>\n      <td>0.220082</td>\n      <td>0.373628</td>\n      <td>0.997415</td>\n      <td>1.047158</td>\n      <td>1.033510</td>\n    </tr>\n    <tr>\n      <th>0</th>\n      <td>0.077279</td>\n      <td>1.048709</td>\n      <td>0.068122</td>\n      <td>0.193985</td>\n      <td>0.901050</td>\n      <td>0.257057</td>\n      <td>0.383720</td>\n      <td>0.945458</td>\n      <td>0.967692</td>\n      <td>0.939485</td>\n    </tr>\n    <tr>\n      <th>0</th>\n      <td>0.064560</td>\n      <td>1.021796</td>\n      <td>0.084652</td>\n      <td>0.151394</td>\n      <td>0.954550</td>\n      <td>0.255827</td>\n      <td>0.385557</td>\n      <td>0.991075</td>\n      <td>1.054441</td>\n      <td>0.950111</td>\n    </tr>\n  </tbody>\n</table>\n<p>1000 rows × 10 columns</p>\n</div>"
     },
     "execution_count": 54,
     "metadata": {},
     "output_type": "execute_result"
    }
   ],
   "source": [
    "n = 1000\n",
    "observational = observe(n, name=name)\n",
    "observational.to_csv(export_path + \"/observational.csv\")\n",
    "observational"
   ],
   "metadata": {
    "collapsed": false,
    "pycharm": {
     "name": "#%%\n"
    }
   }
  },
  {
   "cell_type": "code",
   "execution_count": 15,
   "outputs": [
    {
     "name": "stdout",
     "output_type": "stream",
     "text": [
      "java -Djava.awt.headless=true -jar gnw-3.1b.jar -c settings.txt --input-net configurations/InSilicoSize10-Ecoli1.xml --output-net-format=1 --simulate\n"
     ]
    },
    {
     "name": "stderr",
     "output_type": "stream",
     "text": [
      "100%|██████████| 1000/1000 [21:28<00:00,  1.29s/it]\n"
     ]
    },
    {
     "name": "stdout",
     "output_type": "stream",
     "text": [
      "java -Djava.awt.headless=true -jar gnw-3.1b.jar -c settings.txt --input-net configurations/InSilicoSize10-Ecoli1.xml --output-net-format=1 --simulate\n"
     ]
    },
    {
     "name": "stderr",
     "output_type": "stream",
     "text": [
      "100%|██████████| 1000/1000 [52:56<00:00,  3.18s/it]  \n"
     ]
    },
    {
     "name": "stdout",
     "output_type": "stream",
     "text": [
      "java -Djava.awt.headless=true -jar gnw-3.1b.jar -c settings.txt --input-net configurations/InSilicoSize10-Ecoli1.xml --output-net-format=1 --simulate\n"
     ]
    },
    {
     "name": "stderr",
     "output_type": "stream",
     "text": [
      "100%|██████████| 1000/1000 [29:58<00:00,  1.80s/it]  \n"
     ]
    },
    {
     "name": "stdout",
     "output_type": "stream",
     "text": [
      "java -Djava.awt.headless=true -jar gnw-3.1b.jar -c settings.txt --input-net configurations/InSilicoSize10-Ecoli1.xml --output-net-format=1 --simulate\n"
     ]
    },
    {
     "name": "stderr",
     "output_type": "stream",
     "text": [
      "100%|██████████| 1000/1000 [21:04<00:00,  1.26s/it]\n"
     ]
    },
    {
     "name": "stdout",
     "output_type": "stream",
     "text": [
      "java -Djava.awt.headless=true -jar gnw-3.1b.jar -c settings.txt --input-net configurations/InSilicoSize10-Ecoli1.xml --output-net-format=1 --simulate\n"
     ]
    },
    {
     "name": "stderr",
     "output_type": "stream",
     "text": [
      "100%|██████████| 1000/1000 [21:00<00:00,  1.26s/it]\n"
     ]
    },
    {
     "name": "stdout",
     "output_type": "stream",
     "text": [
      "java -Djava.awt.headless=true -jar gnw-3.1b.jar -c settings.txt --input-net configurations/InSilicoSize10-Ecoli1.xml --output-net-format=1 --simulate\n"
     ]
    },
    {
     "name": "stderr",
     "output_type": "stream",
     "text": [
      "100%|██████████| 1000/1000 [21:38<00:00,  1.30s/it]\n"
     ]
    },
    {
     "name": "stdout",
     "output_type": "stream",
     "text": [
      "java -Djava.awt.headless=true -jar gnw-3.1b.jar -c settings.txt --input-net configurations/InSilicoSize10-Ecoli1.xml --output-net-format=1 --simulate\n"
     ]
    },
    {
     "name": "stderr",
     "output_type": "stream",
     "text": [
      "100%|██████████| 1000/1000 [21:33<00:00,  1.29s/it]\n"
     ]
    },
    {
     "name": "stdout",
     "output_type": "stream",
     "text": [
      "java -Djava.awt.headless=true -jar gnw-3.1b.jar -c settings.txt --input-net configurations/InSilicoSize10-Ecoli1.xml --output-net-format=1 --simulate\n"
     ]
    },
    {
     "name": "stderr",
     "output_type": "stream",
     "text": [
      "100%|██████████| 1000/1000 [21:32<00:00,  1.29s/it]\n"
     ]
    },
    {
     "name": "stdout",
     "output_type": "stream",
     "text": [
      "java -Djava.awt.headless=true -jar gnw-3.1b.jar -c settings.txt --input-net configurations/InSilicoSize10-Ecoli1.xml --output-net-format=1 --simulate\n"
     ]
    },
    {
     "name": "stderr",
     "output_type": "stream",
     "text": [
      "100%|██████████| 1000/1000 [21:33<00:00,  1.29s/it]\n"
     ]
    },
    {
     "name": "stdout",
     "output_type": "stream",
     "text": [
      "java -Djava.awt.headless=true -jar gnw-3.1b.jar -c settings.txt --input-net configurations/InSilicoSize10-Ecoli1.xml --output-net-format=1 --simulate\n"
     ]
    },
    {
     "name": "stderr",
     "output_type": "stream",
     "text": [
      "100%|██████████| 1000/1000 [21:31<00:00,  1.29s/it]\n"
     ]
    }
   ],
   "source": [
    "n = 1000\n",
    "for i in range(10):\n",
    "    knockdowns = knockdown(samples=n, node=i, name=name)\n",
    "    knockdowns.to_csv(export_path + f\"/knockdowns_{i}.csv\")\n"
   ],
   "metadata": {
    "collapsed": false,
    "pycharm": {
     "name": "#%%\n"
    }
   }
  },
  {
   "cell_type": "code",
   "execution_count": null,
   "outputs": [],
   "source": [],
   "metadata": {
    "collapsed": false,
    "pycharm": {
     "name": "#%%\n"
    }
   }
  }
 ],
 "metadata": {
  "kernelspec": {
   "display_name": "Python 3",
   "language": "python",
   "name": "python3"
  },
  "language_info": {
   "codemirror_mode": {
    "name": "ipython",
    "version": 2
   },
   "file_extension": ".py",
   "mimetype": "text/x-python",
   "name": "python",
   "nbconvert_exporter": "python",
   "pygments_lexer": "ipython2",
   "version": "2.7.6"
  }
 },
 "nbformat": 4,
 "nbformat_minor": 0
}
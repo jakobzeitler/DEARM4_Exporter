{
 "cells": [
  {
   "cell_type": "code",
   "execution_count": 52,
   "outputs": [],
   "source": [
    "import os\n",
    "import uuid\n",
    "from pathlib import Path\n",
    "import glob\n",
    "import shutil\n",
    "import json\n",
    "import numpy as np\n",
    "import pathlib\n",
    "import pandas as pd\n",
    "from collections import namedtuple\n",
    "import subprocess\n",
    "\n",
    "from xml.dom import minidom\n",
    "\n",
    "import networkx as nx\n",
    "import graphical_models\n",
    "import tqdm"
   ],
   "metadata": {
    "collapsed": false,
    "pycharm": {
     "name": "#%%\n"
    }
   }
  },
  {
   "cell_type": "markdown",
   "source": [
    "Make sure  https://github.com/linlinchn/gnw/raw/master/gnw-3.1b.jar is in your root directory (should be there already)\n",
    "\n",
    "Credits: Code copied from https://github.com/yannadani/cbed/blob/main/envs/dream4.py and adjusted for modularity\n",
    "\n",
    "Usage:\n",
    "Different graphs are available in /configurations, just switch them out by setting them in the 'name' argument of {observe, intervene, knockdown}\n",
    "\n",
    "Note: Knockdown/Knockout only generate one sample a time for the node specified (a limitation by the original Java jar code, can only be improved by adjusting that Java code and recompiling which sounds like pain)\n"
   ],
   "metadata": {
    "collapsed": false,
    "pycharm": {
     "name": "#%% md\n"
    }
   }
  },
  {
   "cell_type": "code",
   "execution_count": 56,
   "outputs": [],
   "source": [
    "def observe(samples, name='InSilicoSize10-Ecoli1'):\n",
    "    network = f'configurations/{name}.xml'\n",
    "    cmd = f'java -jar gnw-3.1b.jar -c settings.txt --input-net {network} --output-net-format=1 --simulate'\n",
    "    print(cmd)\n",
    "\n",
    "    data = []\n",
    "    for _ in tqdm.tqdm(range(samples)):\n",
    "        subprocess.check_call(cmd.split(' '),  stderr=subprocess.DEVNULL)\n",
    "        data.append(pd.read_csv(f'{name}_wildtype.tsv', sep='\\t'))\n",
    "    return pd.concat(data).to_numpy()\n",
    "\n",
    "\n",
    "def intervene(node, name='InSilicoSize10-Ecoli1'):\n",
    "    network = f'configurations/{name}.xml'\n",
    "    cmd = f'java -jar gnw-3.1b.jar -c settings.txt --input-net {network} --output-net-format=1 --simulate'\n",
    "    print(cmd)\n",
    "    subprocess.check_call(cmd.split(' '),  stderr=subprocess.DEVNULL)\n",
    "    data = pd.read_csv(f'{name}_knockouts.tsv', sep='\\t')\n",
    "    return data.iloc[node].to_numpy()\n",
    "\n",
    "def knockdown(node, name='InSilicoSize10-Ecoli1'):\n",
    "    network = f'configurations/{name}.xml'\n",
    "    cmd = f'java -jar gnw-3.1b.jar -c settings.txt --input-net {network} --output-net-format=1 --simulate'\n",
    "    print(cmd)\n",
    "    subprocess.check_call(cmd.split(' '), stderr=subprocess.DEVNULL)\n",
    "    data = pd.read_csv(f'{name}_knockdowns.tsv', sep='\\t')\n",
    "    return data.iloc[node].to_numpy()\n",
    "\n",
    "\n",
    "def get_network(xml):\n",
    "    xmldoc = minidom.parse(str(xml))\n",
    "\n",
    "    nodes = []\n",
    "    var2id = {}\n",
    "    for i, node in enumerate(xmldoc.getElementsByTagName('species')):\n",
    "        name = node.attributes.get('id').value\n",
    "        if 'void' not in name:\n",
    "            nodes.append(name)\n",
    "            var2id[name] = i\n",
    "\n",
    "    A = np.zeros((len(nodes), len(nodes)))\n",
    "\n",
    "    for node in xmldoc.getElementsByTagName('reaction'):\n",
    "        # child\n",
    "        child = node.getElementsByTagName('listOfProducts')[0].getElementsByTagName('speciesReference')[0].attributes.get('species').value\n",
    "\n",
    "        #parents\n",
    "        for parent in node.getElementsByTagName('modifierSpeciesReference'):\n",
    "            _from = var2id[parent.attributes.get('species').value]\n",
    "            _to = var2id[child]\n",
    "            A[_from, _to] = 1\n",
    "\n",
    "    return nodes, var2id, A"
   ],
   "metadata": {
    "collapsed": false,
    "pycharm": {
     "name": "#%%\n"
    }
   }
  },
  {
   "cell_type": "code",
   "execution_count": 54,
   "outputs": [
    {
     "name": "stdout",
     "output_type": "stream",
     "text": [
      "java -jar gnw-3.1b.jar -c settings.txt --input-net configurations/InSilicoSize10-Ecoli1.xml --output-net-format=1 --simulate\n"
     ]
    },
    {
     "name": "stderr",
     "output_type": "stream",
     "text": [
      "100%|██████████| 5/5 [00:07<00:00,  1.48s/it]\n"
     ]
    },
    {
     "data": {
      "text/plain": "array([[0.0640397, 1.0130489, 0.050506 , 0.1461571, 0.9247111, 0.1156813,\n        0.3843457, 1.0536961, 0.9902394, 1.096382 ],\n       [0.059421 , 1.0065962, 0.0447414, 0.1496074, 0.9452848, 0.0686235,\n        0.4525003, 1.0334531, 1.0199004, 0.973445 ],\n       [0.0721182, 1.0754532, 0.0754594, 0.1197127, 0.9472995, 0.1265829,\n        0.3578588, 1.0552794, 1.0229341, 1.0139334],\n       [0.0678927, 0.9973144, 0.0526402, 0.1167154, 0.9720499, 0.0795689,\n        0.4154059, 0.9945208, 1.0193882, 1.046124 ],\n       [0.0686383, 1.1270065, 0.0561479, 0.1814998, 0.9480983, 0.314055 ,\n        0.3127178, 1.0578455, 0.9703489, 1.0934002]])"
     },
     "execution_count": 54,
     "metadata": {},
     "output_type": "execute_result"
    }
   ],
   "source": [
    "observe(samples=5)"
   ],
   "metadata": {
    "collapsed": false,
    "pycharm": {
     "name": "#%%\n"
    }
   }
  },
  {
   "cell_type": "code",
   "execution_count": 60,
   "outputs": [
    {
     "data": {
      "text/plain": "(['G1', 'G2', 'G3', 'G4', 'G5', 'G6', 'G7', 'G8', 'G9', 'G10'],\n {'G1': 0,\n  'G2': 1,\n  'G3': 2,\n  'G4': 3,\n  'G5': 4,\n  'G6': 5,\n  'G7': 6,\n  'G8': 7,\n  'G9': 8,\n  'G10': 9},\n array([[0., 0., 0., 0., 0., 0., 0., 0., 0., 0.],\n        [1., 0., 1., 0., 0., 0., 0., 0., 0., 0.],\n        [0., 0., 0., 1., 1., 1., 1., 0., 0., 0.],\n        [0., 0., 0., 0., 0., 0., 0., 0., 0., 0.],\n        [0., 0., 0., 0., 0., 0., 0., 0., 0., 0.],\n        [0., 0., 0., 0., 0., 0., 0., 0., 0., 0.],\n        [0., 0., 0., 0., 0., 0., 0., 0., 0., 0.],\n        [0., 0., 0., 0., 1., 0., 1., 0., 0., 0.],\n        [0., 0., 0., 1., 1., 0., 0., 0., 0., 0.],\n        [0., 0., 0., 0., 0., 0., 1., 0., 0., 0.]]))"
     },
     "execution_count": 60,
     "metadata": {},
     "output_type": "execute_result"
    }
   ],
   "source": [
    "nodes, var2id, A= get_network('InSilicoSize10-Ecoli1.xml')\n",
    "nodes, var2id, A"
   ],
   "metadata": {
    "collapsed": false,
    "pycharm": {
     "name": "#%%\n"
    }
   }
  },
  {
   "cell_type": "code",
   "execution_count": 61,
   "outputs": [
    {
     "data": {
      "text/plain": "<Figure size 640x480 with 1 Axes>",
      "image/png": "[encoded data removed]"
     },
     "metadata": {},
     "output_type": "display_data"
    }
   ],
   "source": [
    "import matplotlib.pyplot as plt\n",
    "import networkx as nx\n",
    "\n",
    "def show_graph_with_labels(adjacency_matrix, mylabels):\n",
    "    rows, cols = np.where(adjacency_matrix == 1)\n",
    "    edges = zip(rows.tolist(), cols.tolist())\n",
    "    gr = nx.DiGraph()\n",
    "    gr.add_edges_from(edges)\n",
    "    nx.draw(gr, node_size=500, labels=mylabels, with_labels=True, arrows=True)\n",
    "    plt.show()\n",
    "show_graph_with_labels(A, {i:n for i, n in enumerate(nodes)})"
   ],
   "metadata": {
    "collapsed": false,
    "pycharm": {
     "name": "#%%\n"
    }
   }
  },
  {
   "cell_type": "code",
   "execution_count": 62,
   "outputs": [
    {
     "name": "stdout",
     "output_type": "stream",
     "text": [
      "java -jar gnw-3.1b.jar -c settings.txt --input-net configurations/InSilicoSize10-Ecoli1.xml --output-net-format=1 --simulate\n"
     ]
    },
    {
     "data": {
      "text/plain": "array([0.9999905, 0.       , 1.0266926, 0.3496831, 0.8092653, 1.048231 ,\n       0.0733952, 1.1125337, 1.0573059, 1.0577539])"
     },
     "execution_count": 62,
     "metadata": {},
     "output_type": "execute_result"
    }
   ],
   "source": [
    "intervene(node=1) #only one sample at a time"
   ],
   "metadata": {
    "collapsed": false,
    "pycharm": {
     "name": "#%%\n"
    }
   }
  },
  {
   "cell_type": "code",
   "execution_count": 63,
   "outputs": [
    {
     "name": "stdout",
     "output_type": "stream",
     "text": [
      "java -jar gnw-3.1b.jar -c settings.txt --input-net configurations/InSilicoSize10-Ecoli1.xml --output-net-format=1 --simulate\n"
     ]
    },
    {
     "data": {
      "text/plain": "array([0.1147207, 0.439091 , 0.1640415, 0.1978809, 0.8013127, 0.9053036,\n       0.3581723, 1.0286293, 1.0297592, 0.933466 ])"
     },
     "execution_count": 63,
     "metadata": {},
     "output_type": "execute_result"
    }
   ],
   "source": [
    "knockdown(node=1) #only one sample at a time"
   ],
   "metadata": {
    "collapsed": false,
    "pycharm": {
     "name": "#%%\n"
    }
   }
  },
  {
   "cell_type": "code",
   "execution_count": null,
   "outputs": [],
   "source": [],
   "metadata": {
    "collapsed": false,
    "pycharm": {
     "name": "#%%\n"
    }
   }
  }
 ],
 "metadata": {
  "kernelspec": {
   "display_name": "Python 3",
   "language": "python",
   "name": "python3"
  },
  "language_info": {
   "codemirror_mode": {
    "name": "ipython",
    "version": 2
   },
   "file_extension": ".py",
   "mimetype": "text/x-python",
   "name": "python",
   "nbconvert_exporter": "python",
   "pygments_lexer": "ipython2",
   "version": "2.7.6"
  }
 },
 "nbformat": 4,
 "nbformat_minor": 0
}